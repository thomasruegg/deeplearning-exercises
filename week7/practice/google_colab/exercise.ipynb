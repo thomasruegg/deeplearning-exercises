{
 "cells": [
  {
   "cell_type": "code",
   "execution_count": null,
   "metadata": {
    "id": "HuAWMpyRsz1k"
   },
   "outputs": [],
   "source": [
    "\"\"\"Implementation of a tiny logistic regression model using TensorFlow.\"\"\"\n",
    "\n",
    "import matplotlib.pyplot as plt\n",
    "import numpy as np\n",
    "import tensorflow as tf"
   ]
  },
  {
   "cell_type": "markdown",
   "metadata": {
    "id": "3ny0-i_mlCXV"
   },
   "source": [
    "# Description Dataset\n",
    "$X$ is a quantitative input variable, whereas $Y$ is a qualitative variable which we try to predict by fitting a logistic regression model."
   ]
  },
  {
   "cell_type": "code",
   "execution_count": null,
   "metadata": {
    "id": "C_wOuUzwlCXY"
   },
   "outputs": [],
   "source": [
    "# create a noisy classification dataset\n",
    "def noisy_data(n=100):\n",
    "    x = tf.random.uniform(shape=(n,))\n",
    "    y = tf.convert_to_tensor(np.random.normal(x, 0.1) > 0.5, dtype=tf.float32)\n",
    "    return x, y\n",
    "\n",
    "# create training dataset\n",
    "x_train, y_train = noisy_data()"
   ]
  },
  {
   "cell_type": "code",
   "execution_count": null,
   "metadata": {
    "id": "FHAeCkz4lCXZ"
   },
   "outputs": [],
   "source": [
    "# visualize the data as scatter plot\n",
    "plt.scatter(x_train, y_train)\n",
    "plt.xlabel(\"x\")\n",
    "plt.ylabel(\"y\")\n",
    "plt.show()"
   ]
  },
  {
   "cell_type": "markdown",
   "metadata": {
    "id": "IpMW6p5plCXa"
   },
   "source": [
    "Now your part is to fit the logistic regression model to this dataset."
   ]
  }
 ],
 "metadata": {
  "colab": {
   "provenance": []
  },
  "kernelspec": {
   "display_name": "Python 3",
   "language": "python",
   "name": "python3"
  },
  "language_info": {
   "codemirror_mode": {
    "name": "ipython",
    "version": 3
   },
   "file_extension": ".py",
   "mimetype": "text/x-python",
   "name": "python",
   "nbconvert_exporter": "python",
   "pygments_lexer": "ipython3",
   "version": "3.6.9"
  }
 },
 "nbformat": 4,
 "nbformat_minor": 0
}
