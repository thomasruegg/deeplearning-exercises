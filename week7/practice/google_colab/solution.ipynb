{
 "cells": [
  {
   "cell_type": "code",
   "execution_count": null,
   "metadata": {
    "id": "HuAWMpyRsz1k"
   },
   "outputs": [],
   "source": [
    "\"\"\"Implementation of a tiny logistic regression model using TensorFlow.\"\"\"\n",
    "\n",
    "import matplotlib.pyplot as plt\n",
    "import numpy as np\n",
    "import tensorflow as tf"
   ]
  },
  {
   "cell_type": "markdown",
   "metadata": {
    "id": "eVktyiy5oNlN"
   },
   "source": [
    "# Description Dataset\n",
    "$X$ is a quantitative input variable, whereas $Y$ is a qualitative variable which we try to predict by fitting a logistic regression model."
   ]
  },
  {
   "cell_type": "code",
   "execution_count": null,
   "metadata": {
    "id": "NNo7YLVooNlP"
   },
   "outputs": [],
   "source": [
    "# create a noisy classification dataset\n",
    "def noisy_data(n=100):\n",
    "    x = tf.random.uniform(shape=(n,))\n",
    "    y = tf.convert_to_tensor(np.random.normal(x, 0.1) > 0.5, dtype=tf.float32)\n",
    "    return x, y\n",
    "\n",
    "# create training dataset\n",
    "x_train, y_train = noisy_data()"
   ]
  },
  {
   "cell_type": "code",
   "execution_count": null,
   "metadata": {
    "id": "yzC3FCwUoNlP"
   },
   "outputs": [],
   "source": [
    "# declare trainable variables\n",
    "m = tf.Variable(0.)\n",
    "b = tf.Variable(0.)\n",
    "\n",
    "# prediction model\n",
    "@tf.function\n",
    "def predict_response(x):\n",
    "    print(\"tracing\")\n",
    "    y = m * x + b\n",
    "    return y"
   ]
  },
  {
   "cell_type": "code",
   "execution_count": null,
   "metadata": {
    "id": "gE0lrk8QoNlQ"
   },
   "outputs": [],
   "source": [
    "# loss function\n",
    "binary_cross_entropy = tf.keras.losses.BinaryCrossentropy(from_logits=True)\n",
    "\n",
    "# compute loss prior to training\n",
    "y_pred = predict_response(x_train)\n",
    "loss = binary_cross_entropy(y_true=y_train, y_pred=y_pred)\n",
    "print(f\"Loss prior to training: {loss.numpy():.6f}\")"
   ]
  },
  {
   "cell_type": "code",
   "execution_count": null,
   "metadata": {
    "id": "P12BJLBmoNlQ"
   },
   "outputs": [],
   "source": [
    "# gradient descent from scratch\n",
    "learning_rate = 0.05\n",
    "steps = 10000\n",
    "for i in range(steps):\n",
    "    with tf.GradientTape() as tape:\n",
    "        y_pred = predict_response(x_train)\n",
    "        loss = binary_cross_entropy(y_true=y_train, y_pred=y_pred)\n",
    "\n",
    "    # compute gradient of loss with respect to m and b\n",
    "    gradient = tape.gradient(loss, [m, b])\n",
    "\n",
    "    # move a small step in the direction of the negative gradient\n",
    "    m.assign_sub(gradient[0] * learning_rate)\n",
    "    b.assign_sub(gradient[1] * learning_rate)\n",
    "\n",
    "    # track steps\n",
    "    if i % 1000 == 0:\n",
    "        print(f\"Step number {i}: loss = {loss.numpy():.6f}\")"
   ]
  },
  {
   "cell_type": "code",
   "execution_count": null,
   "metadata": {
    "id": "eIPAhIfurAWI"
   },
   "outputs": [],
   "source": [
    "print(f\"\\nGradient after {steps} steps:\", gradient)"
   ]
  },
  {
   "cell_type": "code",
   "execution_count": null,
   "metadata": {
    "id": "2TqvekABoNlR"
   },
   "outputs": [],
   "source": [
    "# visualize result\n",
    "x_plot = np.linspace(0, 1, 100)\n",
    "y_plot = 1 / (1 + np.exp(-(x_plot * m.numpy() + b.numpy())))\n",
    "plt.scatter(x_train, y_train)\n",
    "plt.plot(x_plot, y_plot)\n",
    "plt.xlabel(\"x\")\n",
    "plt.ylabel(\"y\")\n",
    "plt.show()"
   ]
  }
 ],
 "metadata": {
  "colab": {
   "provenance": []
  },
  "kernelspec": {
   "display_name": "Python 3",
   "language": "python",
   "name": "python3"
  },
  "language_info": {
   "codemirror_mode": {
    "name": "ipython",
    "version": 3
   },
   "file_extension": ".py",
   "mimetype": "text/x-python",
   "name": "python",
   "nbconvert_exporter": "python",
   "pygments_lexer": "ipython3",
   "version": "3.6.9"
  }
 },
 "nbformat": 4,
 "nbformat_minor": 0
}
